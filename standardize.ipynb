{
 "cells": [
  {
   "cell_type": "code",
   "execution_count": 806,
   "id": "02ba1415-55c7-4499-a061-7a854409253b",
   "metadata": {},
   "outputs": [],
   "source": [
    "import numpy as np\n",
    "import pandas as pd"
   ]
  },
  {
   "cell_type": "code",
   "execution_count": 836,
   "id": "1df6673c-c387-45ec-b4f2-63c2987ba8bd",
   "metadata": {},
   "outputs": [
    {
     "name": "stderr",
     "output_type": "stream",
     "text": [
      "C:\\Users\\maith\\AppData\\Local\\Temp\\ipykernel_11804\\893396638.py:1: DeprecationWarning: `np.object` is a deprecated alias for the builtin `object`. To silence this warning, use `object` by itself. Doing this will not modify any behavior and is safe. \n",
      "Deprecated in NumPy 1.20; for more details and guidance: https://numpy.org/devdocs/release/1.20.0-notes.html#deprecations\n",
      "  objective=np.array([['max',5,6]], dtype=np.object)\n"
     ]
    },
    {
     "data": {
      "text/plain": [
       "array([['max', 5, 6]], dtype=object)"
      ]
     },
     "execution_count": 836,
     "metadata": {},
     "output_type": "execute_result"
    }
   ],
   "source": [
    "objective=np.array([['max',5,6]], dtype=np.object)\n",
    "objective"
   ]
  },
  {
   "cell_type": "code",
   "execution_count": 837,
   "id": "5f992b52-55c0-4c6c-b653-22fc5f8e336f",
   "metadata": {},
   "outputs": [
    {
     "name": "stderr",
     "output_type": "stream",
     "text": [
      "C:\\Users\\maith\\AppData\\Local\\Temp\\ipykernel_11804\\3828122320.py:1: DeprecationWarning: `np.object` is a deprecated alias for the builtin `object`. To silence this warning, use `object` by itself. Doing this will not modify any behavior and is safe. \n",
      "Deprecated in NumPy 1.20; for more details and guidance: https://numpy.org/devdocs/release/1.20.0-notes.html#deprecations\n",
      "  constraint=np.array([[1,-2,'>=',2],[-2,3,'>=',2]], dtype=np.object)\n"
     ]
    },
    {
     "data": {
      "text/plain": [
       "array([[1, -2, '>=', 2],\n",
       "       [-2, 3, '>=', 2]], dtype=object)"
      ]
     },
     "execution_count": 837,
     "metadata": {},
     "output_type": "execute_result"
    }
   ],
   "source": [
    "constraint=np.array([[1,-2,'>=',2],[-2,3,'>=',2]], dtype=np.object)\n",
    "constraint"
   ]
  },
  {
   "cell_type": "code",
   "execution_count": 838,
   "id": "ea3e8dbd-5180-42ad-91fc-634cf3aec997",
   "metadata": {},
   "outputs": [
    {
     "name": "stderr",
     "output_type": "stream",
     "text": [
      "C:\\Users\\maith\\AppData\\Local\\Temp\\ipykernel_11804\\89935520.py:2: DeprecationWarning: `np.object` is a deprecated alias for the builtin `object`. To silence this warning, use `object` by itself. Doing this will not modify any behavior and is safe. \n",
      "Deprecated in NumPy 1.20; for more details and guidance: https://numpy.org/devdocs/release/1.20.0-notes.html#deprecations\n",
      "  condition=np.array([[1,0,'?',0],[0,1,'?',0]], dtype=np.object)\n"
     ]
    },
    {
     "data": {
      "text/plain": [
       "array([[1, 0, '?', 0],\n",
       "       [0, 1, '?', 0]], dtype=object)"
      ]
     },
     "execution_count": 838,
     "metadata": {},
     "output_type": "execute_result"
    }
   ],
   "source": [
    "# Nếu là biến tự do thì ta dùng \"?\"\n",
    "condition=np.array([[1,0,'?',0],[0,1,'?',0]], dtype=np.object)\n",
    "condition"
   ]
  },
  {
   "cell_type": "code",
   "execution_count": 839,
   "id": "d90f86a1-11a1-41e0-9bba-0d00533accf9",
   "metadata": {},
   "outputs": [
    {
     "name": "stdout",
     "output_type": "stream",
     "text": [
      "objective:\n",
      " [['max' 5 -5 6 -6]]\n",
      "constraint:\n",
      " [[1 -1 -2 2 '>=' 2]\n",
      " [-2 2 3 -3 '>=' 2]]\n",
      "condition:\n",
      " [[1 0 0 0 '>=' 0]\n",
      " [0 1 0 0 '>=' 0]\n",
      " [0 0 1 0 '>=' 0]\n",
      " [0 0 0 1 '>=' 0]]\n"
     ]
    },
    {
     "name": "stderr",
     "output_type": "stream",
     "text": [
      "C:\\Users\\maith\\AppData\\Local\\Temp\\ipykernel_11804\\346678788.py:69: DeprecationWarning: `np.object` is a deprecated alias for the builtin `object`. To silence this warning, use `object` by itself. Doing this will not modify any behavior and is safe. \n",
      "Deprecated in NumPy 1.20; for more details and guidance: https://numpy.org/devdocs/release/1.20.0-notes.html#deprecations\n",
      "  newcol=np.zeros(condition.shape[0],dtype=np.object)\n",
      "C:\\Users\\maith\\AppData\\Local\\Temp\\ipykernel_11804\\346678788.py:70: DeprecationWarning: `np.object` is a deprecated alias for the builtin `object`. To silence this warning, use `object` by itself. Doing this will not modify any behavior and is safe. \n",
      "Deprecated in NumPy 1.20; for more details and guidance: https://numpy.org/devdocs/release/1.20.0-notes.html#deprecations\n",
      "  newrow=np.zeros(condition.shape[1]+1,dtype=np.object)\n",
      "C:\\Users\\maith\\AppData\\Local\\Temp\\ipykernel_11804\\346678788.py:69: DeprecationWarning: `np.object` is a deprecated alias for the builtin `object`. To silence this warning, use `object` by itself. Doing this will not modify any behavior and is safe. \n",
      "Deprecated in NumPy 1.20; for more details and guidance: https://numpy.org/devdocs/release/1.20.0-notes.html#deprecations\n",
      "  newcol=np.zeros(condition.shape[0],dtype=np.object)\n",
      "C:\\Users\\maith\\AppData\\Local\\Temp\\ipykernel_11804\\346678788.py:70: DeprecationWarning: `np.object` is a deprecated alias for the builtin `object`. To silence this warning, use `object` by itself. Doing this will not modify any behavior and is safe. \n",
      "Deprecated in NumPy 1.20; for more details and guidance: https://numpy.org/devdocs/release/1.20.0-notes.html#deprecations\n",
      "  newrow=np.zeros(condition.shape[1]+1,dtype=np.object)\n"
     ]
    }
   ],
   "source": [
    "def check_condition(objective, constraint, condition):\n",
    "    \n",
    "    condition2=condition\n",
    "    flag1=0\n",
    "    flag2=0\n",
    "    flag3=0\n",
    "    for i in range(condition2.shape[0]):\n",
    "        for j in range(condition2.shape[1]):\n",
    "            if np.diag(condition2)[i] == 1:\n",
    "                if condition2[i][j] == '<='and condition2[:,-1][i] == 0  :\n",
    "                    objective[:,i+1+flag2] = objective[:,i+1+flag2]*-1\n",
    "                    constraint[:,i+flag2]=constraint[:,i+flag2]*-1\n",
    "                    condition[i][j] = '>='\n",
    "                    flag1=flag1+1\n",
    "                elif condition2[i][j] == '>='and condition2[:,-1][i] == 0  :\n",
    "                    flag3=flag3+1\n",
    "                elif condition[:,-1][i] != 0 :\n",
    "                    temp_objective=pd.DataFrame(objective)\n",
    "                    newcol=np.vstack([temp_objective.iloc[:,2*i+1-flag1-flag3],temp_objective.iloc[:,2*i+1-flag1-flag3]*-1])\n",
    "                    temp_objective.insert(2*i+1-flag1-flag3,None,newcol[0].T)\n",
    "                    temp_objective.insert(2*i+2-flag1-flag3,None,newcol[1].T)\n",
    "                    temp_objective.drop(labels=2*i+1-flag1-flag3,axis=1,inplace=True)\n",
    "                    objective=temp_objective\n",
    "                    objective=temp_objective.values\n",
    "                    \n",
    "                    temp_constraint=pd.DataFrame(constraint)\n",
    "                    newrow=np.zeros(temp_constraint.shape[1],dtype=np.object)\n",
    "                    newrow[i-flag1-flag3:]=condition2[i,:]                    \n",
    "                    temp_constraint.loc[temp_constraint.shape[0]+1]=newrow\n",
    "                    #constraint= np.vstack([constraint, newrow])\n",
    "                    newcol=np.vstack([temp_constraint.iloc[:,2*i-flag1-flag3],temp_constraint.iloc[:,2*i-flag1-flag3]*-1])\n",
    "                    temp_constraint.insert(2*i-flag1-flag3,None,newcol[0].T)\n",
    "                    temp_constraint.insert(2*i+1-flag1-flag3,None,newcol[1].T)\n",
    "                    temp_constraint.drop(labels=2*i-flag1-flag3,axis=1,inplace=True)\n",
    "                    constraint=temp_constraint.values\n",
    "                    \n",
    "                    \n",
    "                    newcol=np.zeros(condition.shape[0],dtype=np.object)\n",
    "                    newrow=np.zeros(condition.shape[1]+1,dtype=np.object)\n",
    "                    temp_condition=pd.DataFrame(condition)\n",
    "                    temp_condition.insert(condition.shape[1]-2,None,newcol.T)\n",
    "                    temp_condition.loc[condition.shape[0]]=newrow\n",
    "                    temp_condition.iloc[-1,condition.shape[1]-1]='>='\n",
    "                    temp_condition.iloc[-1,condition.shape[1]-2]=1\n",
    "                    temp_condition.iloc[i,condition.shape[1]]=0\n",
    "                    temp_condition.iloc[i,condition.shape[1]-1]='>='\n",
    "                    condition = np.array(temp_condition)\n",
    "                    \n",
    "                    flag2=flag2+1\n",
    "                elif condition2[i][j] == '?'and condition2[:,-1][i] == 0:\n",
    "                    temp_objective=pd.DataFrame(objective)\n",
    "                    newcol=np.vstack([temp_objective.iloc[:,2*i+1-flag1-flag3],temp_objective.iloc[:,2*i+1-flag1-flag3]*-1])\n",
    "                    temp_objective.insert(2*i+1-flag1-flag3,None,newcol[0].T)\n",
    "                    temp_objective.insert(2*i+2-flag1-flag3,None,newcol[1].T)\n",
    "                    temp_objective.drop(labels=2*i+1-flag1-flag3,axis=1,inplace=True)\n",
    "                    objective=temp_objective\n",
    "                    objective=temp_objective.values\n",
    "                    \n",
    "                    temp_constraint=pd.DataFrame(constraint)\n",
    "                    \n",
    "                    #constraint= np.vstack([constraint, newrow])\n",
    "                    newcol=np.vstack([temp_constraint.iloc[:,2*i-flag1-flag3],temp_constraint.iloc[:,2*i-flag1-flag3]*-1])\n",
    "                    temp_constraint.insert(2*i-flag1-flag3,None,newcol[0].T)\n",
    "                    temp_constraint.insert(2*i+1-flag1-flag3,None,newcol[1].T)\n",
    "                    temp_constraint.drop(labels=2*i-flag1-flag3,axis=1,inplace=True)\n",
    "                    constraint=temp_constraint.values\n",
    "                    \n",
    "                    \n",
    "                    newcol=np.zeros(condition.shape[0],dtype=np.object)\n",
    "                    newrow=np.zeros(condition.shape[1]+1,dtype=np.object)\n",
    "                    temp_condition=pd.DataFrame(condition)\n",
    "                    temp_condition.insert(condition.shape[1]-2,None,newcol.T)\n",
    "                    temp_condition.loc[condition.shape[0]]=newrow\n",
    "                    temp_condition.iloc[-1,condition.shape[1]-1]='>='\n",
    "                    temp_condition.iloc[-1,condition.shape[1]-2]=1\n",
    "                    temp_condition.iloc[i,condition.shape[1]]=0\n",
    "                    temp_condition.iloc[i,condition.shape[1]-1]='>='\n",
    "                    condition = np.array(temp_condition)\n",
    "                    \n",
    "                    flag2=flag2+1\n",
    "                \n",
    "    return objective,constraint,condition\n",
    "\n",
    "objective, constraint, condition = check_condition(objective, constraint, condition)\n",
    "print('objective:\\n',objective)\n",
    "print('constraint:\\n',constraint)\n",
    "print('condition:\\n', condition)"
   ]
  },
  {
   "cell_type": "code",
   "execution_count": 840,
   "id": "939b0c1a-9ff9-473f-b7b5-94145b2452ce",
   "metadata": {},
   "outputs": [
    {
     "name": "stdout",
     "output_type": "stream",
     "text": [
      "objective:\n",
      " [['max' 5 -5 6 -6]]\n",
      "constraint:\n",
      " [[-1 1 2 -2 '<=' -2]\n",
      " [2 -2 -3 3 '<=' -2]]\n",
      "condition:\n",
      " [[1 0 0 0 '>=' 0]\n",
      " [0 1 0 0 '>=' 0]\n",
      " [0 0 1 0 '>=' 0]\n",
      " [0 0 0 1 '>=' 0]]\n"
     ]
    }
   ],
   "source": [
    "def check_constraint(objective, constraint, condition):\n",
    "    constraint2=constraint\n",
    "    k=constraint.shape[1]-2\n",
    "    flag=0\n",
    "    for i in range(constraint2.shape[0]):\n",
    "        if constraint[i-flag][k] == \">=\":\n",
    "            constraint[i-flag,:]=constraint[i-flag,:]*-1\n",
    "            constraint[i-flag][k] = \"<=\"\n",
    "            \n",
    "        elif constraint2[:,k][i-flag] == \"=\":\n",
    "            newrow=np.vstack([constraint[i-flag],constraint[i-flag]*-1])\n",
    "            newrow[0][k]='<='\n",
    "            newrow[1][k]='<='\n",
    "            temp_constraint=pd.DataFrame(constraint)\n",
    "            #temp_constraint = temp_constraint.drop(labels=i, axis=0)\n",
    "            temp_constraint.loc[temp_constraint.shape[0]+1]=newrow[0]\n",
    "            temp_constraint.loc[temp_constraint.shape[0]+2]=newrow[1]\n",
    "            temp_constraint = temp_constraint.drop(labels=i-flag, axis=0)\n",
    "            flag=flag+1\n",
    "                    \n",
    "            constraint=temp_constraint.values\n",
    "    return objective,constraint,condition\n",
    "        \n",
    "objective, constraint, condition = check_constraint(objective, constraint, condition)\n",
    "print('objective:\\n',objective)\n",
    "print('constraint:\\n',constraint)\n",
    "print('condition:\\n', condition)"
   ]
  },
  {
   "cell_type": "code",
   "execution_count": 841,
   "id": "abe49355-dced-4a33-a015-42099af64764",
   "metadata": {},
   "outputs": [
    {
     "name": "stdout",
     "output_type": "stream",
     "text": [
      "objective:\n",
      " [['min' -5 5 -6 6]]\n",
      "constraint:\n",
      " [[-1 1 2 -2 '<=' -2]\n",
      " [2 -2 -3 3 '<=' -2]]\n",
      "condition:\n",
      " [[1 0 0 0 '>=' 0]\n",
      " [0 1 0 0 '>=' 0]\n",
      " [0 0 1 0 '>=' 0]\n",
      " [0 0 0 1 '>=' 0]]\n"
     ]
    }
   ],
   "source": [
    "def check_objective(objective, constraint, condition):\n",
    "    if objective[0][0]=='max':\n",
    "        objective=objective*-1\n",
    "        objective[0][0]='min'\n",
    "    return objective, constraint, condition\n",
    "objective, constraint, condition = check_objective(objective, constraint, condition)\n",
    "print('objective:\\n',objective)\n",
    "print('constraint:\\n',constraint)\n",
    "print('condition:\\n', condition)"
   ]
  }
 ],
 "metadata": {
  "kernelspec": {
   "display_name": "Python 3 (ipykernel)",
   "language": "python",
   "name": "python3"
  },
  "language_info": {
   "codemirror_mode": {
    "name": "ipython",
    "version": 3
   },
   "file_extension": ".py",
   "mimetype": "text/x-python",
   "name": "python",
   "nbconvert_exporter": "python",
   "pygments_lexer": "ipython3",
   "version": "3.9.12"
  }
 },
 "nbformat": 4,
 "nbformat_minor": 5
}
